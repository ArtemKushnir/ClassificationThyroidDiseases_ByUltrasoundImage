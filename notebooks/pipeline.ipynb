{
 "cells": [
  {
   "cell_type": "code",
   "execution_count": null,
   "id": "12b740f3-d4ab-4c62-8525-cd01ad0fbe2b",
   "metadata": {},
   "outputs": [],
   "source": [
    "import sys\n",
    "\n",
    "sys.path.append(\"..\")"
   ]
  },
  {
   "cell_type": "code",
   "execution_count": null,
   "id": "4d051bd6-b7c6-4f30-b054-0135907a00fa",
   "metadata": {},
   "outputs": [],
   "source": [
    "import os\n",
    "import cv2 as cv"
   ]
  },
  {
   "cell_type": "code",
   "execution_count": null,
   "id": "8314def6-76a9-44c3-91fd-7dbad0b413f2",
   "metadata": {},
   "outputs": [],
   "source": [
    "folder_normal_image_name = \"../data/clear_and_cropped_image_data/normal/\"\n",
    "folder_malignant_image_name = \"../data/clear_and_cropped_image_data/malignant/\"\n",
    "\n",
    "normal_image_names = os.listdir(folder_normal_image_name)\n",
    "malignant_image_names = os.listdir(folder_malignant_image_name)\n",
    "\n",
    "normal_image_paths = [folder_normal_image_name + path for path in os.listdir(folder_normal_image_name)]\n",
    "malignant_image_paths = [folder_malignant_image_name + path for path in os.listdir(folder_malignant_image_name)]"
   ]
  },
  {
   "cell_type": "code",
   "execution_count": null,
   "id": "b547e954-dd85-48cd-a2b0-6d86fd5d9767",
   "metadata": {},
   "outputs": [],
   "source": [
    "import numpy as np\n",
    "import pandas as pd"
   ]
  },
  {
   "cell_type": "code",
   "execution_count": null,
   "id": "c2d897ea-0741-4210-b12e-7c65779ee6b9",
   "metadata": {},
   "outputs": [],
   "source": [
    "from src.feature_extraction.extract_figure_features import extract_figure_features\n",
    "\n",
    "figure_features = extract_figure_features()"
   ]
  },
  {
   "cell_type": "code",
   "execution_count": null,
   "id": "c657d4c1-6246-4894-8bf6-52cc2d81e38e",
   "metadata": {},
   "outputs": [],
   "source": [
    "figure_features"
   ]
  },
  {
   "cell_type": "code",
   "execution_count": null,
   "id": "97a2e45b-59a0-420c-b9bd-e7f9493986be",
   "metadata": {},
   "outputs": [],
   "source": [
    "def extract_image_feature(image, label):\n",
    "    return {\n",
    "        f\"{label}_mean\": image.mean(),\n",
    "        f\"{label}_std\": image.std(),\n",
    "        f\"{label}_min\": image.min(),\n",
    "        f\"{label}_max\": image.max(),\n",
    "    }"
   ]
  },
  {
   "cell_type": "code",
   "execution_count": null,
   "id": "14ebf308-b244-4d0d-9a19-c65f6e85ab18",
   "metadata": {},
   "outputs": [],
   "source": [
    "all_image_paths = normal_image_paths + malignant_image_paths\n",
    "all_image_name = normal_image_names + malignant_image_names\n",
    "\n",
    "features = []\n",
    "\n",
    "for i, image_path in enumerate(all_image_paths):\n",
    "    image_number = all_image_name[i][all_image_name[i].find(\"_\") + 1 : all_image_name[i].rfind(\".\")]\n",
    "    image = cv.imread(image_path, cv.IMREAD_GRAYSCALE)\n",
    "\n",
    "    blurred_image = cv.GaussianBlur(image, (5, 5), 1.4)\n",
    "\n",
    "    curr_image_features = {\"name\": image_number}\n",
    "    curr_image_features.update(extract_image_feature(image, \"default\"))\n",
    "\n",
    "    curr_image_features.update(extract_image_feature(blurred_image, \"blur\"))\n",
    "\n",
    "    sobel_x = cv.Sobel(blurred_image, cv.CV_64F, 1, 0, ksize=3)\n",
    "    sobel_y = cv.Sobel(blurred_image, cv.CV_64F, 0, 1, ksize=3)\n",
    "    abs_sobel_x = cv.convertScaleAbs(sobel_x)\n",
    "    abs_sobel_y = cv.convertScaleAbs(sobel_y)\n",
    "    sobel_grad = cv.addWeighted(abs_sobel_x, 0.5, abs_sobel_y, 0.5, 0)\n",
    "    curr_image_features[\"sobel_mean\"] = sobel_grad.mean()\n",
    "    curr_image_features[\"sobel_std\"] = sobel_grad.std()\n",
    "\n",
    "    laplacian = cv.Laplacian(blurred_image, cv.CV_64F).astype(np.uint8)\n",
    "    curr_image_features[\"laplacian_mean\"] = laplacian.mean()\n",
    "    curr_image_features[\"laplacian_std\"] = laplacian.std()\n",
    "\n",
    "    sigma = 0.9\n",
    "    v = np.median(blurred_image)\n",
    "    lower = int(max(0, (1.0 - sigma) * v))\n",
    "    upper = int(min(255, (1.0 + sigma) * v))\n",
    "    canny = cv.Canny(blurred_image, lower, upper, L2gradient=True)\n",
    "    curr_image_features[\"canny_mean\"] = canny.mean()\n",
    "    curr_image_features[\"canny_std\"] = canny.std()\n",
    "\n",
    "    curr_image_features.update(figure_features[image_number])\n",
    "\n",
    "    if image_path in normal_image_paths:\n",
    "        curr_image_features[\"target\"] = 0\n",
    "    else:\n",
    "        curr_image_features[\"target\"] = 1\n",
    "\n",
    "    features.append(curr_image_features)"
   ]
  },
  {
   "cell_type": "code",
   "execution_count": null,
   "id": "f7c629f8-51d2-41ff-adc2-61a4ecfeefef",
   "metadata": {},
   "outputs": [],
   "source": [
    "features"
   ]
  },
  {
   "cell_type": "code",
   "execution_count": 1,
   "id": "1262c7e7-74c9-4c8d-8d36-9058452d2afe",
   "metadata": {},
   "outputs": [],
   "source": [
    "import matplotlib.pyplot as plt\n",
    "\n",
    "fig, axes = plt.subplots(2, 3, figsize=(12, 8))\n",
    "\n",
    "image = cv.imread(normal_image_paths[20], cv.IMREAD_GRAYSCALE)\n",
    "\n",
    "blurred = cv.GaussianBlur(image, (5, 5), 1.4)\n",
    "\n",
    "sobel_x = cv.Sobel(blurred, cv.CV_64F, 1, 0, ksize=3)\n",
    "sobel_y = cv.Sobel(blurred, cv.CV_64F, 0, 1, ksize=3)\n",
    "abs_sobel_x = cv.convertScaleAbs(sobel_x)\n",
    "abs_sobel_y = cv.convertScaleAbs(sobel_y)\n",
    "grad = cv.addWeighted(abs_sobel_x, 0.5, abs_sobel_y, 0.5, 0)\n",
    "\n",
    "laplacian = cv.Laplacian(blurred, cv.CV_64F).astype(np.uint8)\n",
    "\n",
    "sigma = 0.9\n",
    "v = np.median(blurred)\n",
    "lower = int(max(0, (1.0 - sigma) * v))\n",
    "upper = int(min(255, (1.0 + sigma) * v))\n",
    "canny = cv.Canny(blurred, lower, upper, L2gradient=True)\n",
    "\n",
    "images = [image, blurred, grad, laplacian, canny]\n",
    "titles = [\"image\", \"blur\", \"sobel\", \"laplacian\", \"canny\"]\n",
    "for ax, img, title in zip(axes.flatten(), images, titles):\n",
    "    ax.imshow(img, cmap=\"gray\")\n",
    "    ax.set_title(title)\n",
    "    ax.axis(\"off\")\n",
    "\n",
    "axes[1, 2].axis(\"off\")\n",
    "\n",
    "plt.tight_layout()\n",
    "plt.show()"
   ]
  },
  {
   "cell_type": "code",
   "execution_count": null,
   "id": "2be44445-18f4-4b3e-858a-aaefc70e4f11",
   "metadata": {},
   "outputs": [],
   "source": [
    "df = pd.DataFrame(features)\n",
    "df.head()"
   ]
  },
  {
   "cell_type": "code",
   "execution_count": null,
   "id": "08ba081b-1747-4087-aadb-0d9d509c0a06",
   "metadata": {},
   "outputs": [],
   "source": [
    "df.shape"
   ]
  },
  {
   "cell_type": "code",
   "execution_count": null,
   "id": "519bf480-aba7-497f-a2b4-001e457b695c",
   "metadata": {},
   "outputs": [],
   "source": [
    "df[\"target\"].value_counts()"
   ]
  },
  {
   "cell_type": "code",
   "execution_count": null,
   "id": "cc540129-3353-4e56-ab00-83ff4783be09",
   "metadata": {},
   "outputs": [],
   "source": [
    "len(normal_image_names), len(malignant_image_names)"
   ]
  },
  {
   "cell_type": "code",
   "execution_count": null,
   "id": "1f60778b-8f0f-4f71-bd9b-64444347f0d0",
   "metadata": {},
   "outputs": [],
   "source": [
    "df.isna().sum()"
   ]
  }
 ],
 "metadata": {
  "kernelspec": {
   "display_name": "Python 3 (ipykernel)",
   "language": "python",
   "name": "python3"
  },
  "language_info": {
   "codemirror_mode": {
    "name": "ipython",
    "version": 3
   },
   "file_extension": ".py",
   "mimetype": "text/x-python",
   "name": "python",
   "nbconvert_exporter": "python",
   "pygments_lexer": "ipython3",
   "version": "3.12.7"
  }
 },
 "nbformat": 4,
 "nbformat_minor": 5
}
